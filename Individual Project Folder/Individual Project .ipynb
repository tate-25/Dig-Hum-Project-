{
 "cells": [
  {
   "cell_type": "markdown",
   "metadata": {},
   "source": [
    "# African Understanding of Freedom \n",
    "\n",
    "## Why Africa? \n",
    "\n",
    "I've been interested in Africa for a while as a coneints of increbily divereise culutre, the beginig of human history and beaftuil natural respocures. That have been pludenered by outsiders. It wasnt until post World War Two, that the chains of coliism were taken off. Alowing for the coiniet to try to set its own path. However that is a nivie telling, becuase internaional XX have used Africa to fight prioxy wars, steal diamonds and gold, trade land for debt and so on. Africa hasnt been given a far shot, yet the people are still virbent and trying to create there own place. This is what my project is interest in is try to understand the local percetion on their goverment. After studying in China, I am devoted to trying to understand and make democratic instuitons more inclusive, repersative and XXX. \n",
    "\n",
    "The research question: \n",
    " \"\"\n",
    " \n",
    "#### Contries  \n",
    "\n",
    "__Ghana__: Is the headquarters of __Afrobarometer__ and argubly the freest and most democratic country in Africa.\n",
    "Africa layout.png\n",
    "\n",
    "__Nigirea__: Is the largest country on the coneint, oil rich, give and flow on freedom. Just eleted the last Miltary Dicatior as presdeint, maybe he has changed?????\n",
    "\n",
    "__Uganda__: Is the least free country that __Afrobarometer__ has consintent data on.\n",
    "\n",
    "<img src=\"files/Africa layout.png\" alt=\"Image\" height=\"450\" width=\"500\" />\n",
    "\n",
    "## Data Scources  \n",
    "- __Afrobarometer__ was founded in 1999 as a locally driven, nonpartisan NGO that seeks to gather data on African’s public attitude surveys on “democracy, governance, the economy, and society\". \n",
    "- International reconized for being one of the most consitance and accuretite for polling in Africa \n",
    "    \n",
    "- __The Freedom House__ was established in 1941 to champion the advancement of freedom globally, and since 1972 the institutes have released the  “Freedom in the World [...] annual report, assessing the condition of political rights and civil liberties around the world.” The most cited index on Democarcy in the Free world. \n",
    "- The report is created by a team of in-house and external analysts and expert advisers from the academic, think tank, and human rights communities. The current 2020 edition used  125 analysts, and 40 advisers.\n",
    "\n",
    "#### Freedom in Africa, 2015\n",
    "We can see that Freedom Clusters. \n",
    "<img src=\"files/freedom-africa-2015.png\" alt=\"Image\" height= \"300\" width= \"450\" />\n",
    "\n",
    "## Methodology \n",
    "\n",
    "We will look at the local polling data and use the _Freedom in the world_ index.\n",
    "\n",
    "#### Local \n",
    " I will use three rounds of polling, the years: ‘2008-2009’, ‘2011 - 2013’, and ‘2014-2015’.  While focusing on the question _“In this country, how free are you: To choose who to vote for without feeling pressured?”_ interviewees are give five response catorgies:\n",
    "    1. Not at all free\n",
    "    2. Not very free\n",
    "    3. Somewhat free\n",
    "    4. Completely free\n",
    "    5. Don't know\n",
    "    \n",
    "#### International \n",
    "\n",
    "Freedom House has three catorgories of Freedom:\n",
    "    1. Free \n",
    "    2. Partly Free \n",
    "    3. Not Free\n",
    "These are scored from a 0 to 100 scale, this image shows the XXX: \n",
    "\n"
   ]
  },
  {
   "cell_type": "code",
   "execution_count": 13,
   "metadata": {},
   "outputs": [],
   "source": [
    "from IPython.display import Image\n",
    "from IPython.core.display import HTML \n",
    "#Image(url= \"https://ichef.bbci.co.uk/news/624/cpsprodpb/C846/production/_105707215_democracy.png\")"
   ]
  },
  {
   "cell_type": "code",
   "execution_count": 10,
   "metadata": {},
   "outputs": [],
   "source": [
    "import math\n",
    "import os\n",
    "from datetime import datetime\n",
    "import matplotlib.pyplot as plt\n",
    "import numpy as np\n",
    "import pandas as pd\n",
    "import seaborn as sns\n",
    "import scipy\n",
    "from scipy import stats\n",
    "import sklearn\n",
    "from sklearn.feature_extraction.text import CountVectorizer\n",
    "from sklearn.linear_model import LogisticRegression\n",
    "from sklearn import metrics\n",
    "from sklearn.model_selection import train_test_split\n",
    "%matplotlib inline\n"
   ]
  },
  {
   "cell_type": "code",
   "execution_count": 2,
   "metadata": {},
   "outputs": [
    {
     "data": {
      "text/plain": [
       "'C:\\\\Users\\\\taten\\\\Desktop\\\\Digtal Hum\\\\Dig-Hum-Project-\\\\Individual Project Folder'"
      ]
     },
     "execution_count": 2,
     "metadata": {},
     "output_type": "execute_result"
    }
   ],
   "source": [
    "%pwd\n"
   ]
  },
  {
   "cell_type": "code",
   "execution_count": 3,
   "metadata": {},
   "outputs": [
    {
     "name": "stdout",
     "output_type": "stream",
     "text": [
      " Volume in drive C has no label.\n",
      " Volume Serial Number is 9022-D8D4\n",
      "\n",
      " Directory of C:\\Users\\taten\\Desktop\\Digtal Hum\\Dig-Hum-Project-\\Individual Project Folder\n",
      "\n",
      "06/26/2020  01:03 PM    <DIR>          .\n",
      "06/26/2020  01:03 PM    <DIR>          ..\n",
      "06/25/2020  12:40 PM    <DIR>          .ipynb_checkpoints\n",
      "06/24/2020  08:50 PM           134,086 Afrobarometer_ data_Freedom_to_choose_who_to_vote_for.xlsx\n",
      "06/24/2020  08:51 PM           134,082 Afrobarometer_data_Freedom_to_join_any_political_organizations.xlsx\n",
      "06/24/2020  08:50 PM           134,285 Afrobarometer_data_Freedom_to_say_what_you_think.xlsx\n",
      "06/25/2020  12:39 PM               849 Freedom to join any political organizations_Data.csv\n",
      "06/24/2020  08:49 PM           290,920 Freedom_House_data_2020_Aggregate_Category_and_Subcategory_Scores_FIW_2003-2020.xlsx\n",
      "06/26/2020  01:02 PM               705 Freedom_organizations_Data.csv\n",
      "06/26/2020  01:03 PM            29,758 Individual Project .ipynb\n",
      "06/25/2020  09:31 PM             3,130 Main Individual Data.csv\n",
      "06/24/2020  07:55 PM            12,236 Main Individual Data.xlsx\n",
      "               9 File(s)        740,051 bytes\n",
      "               3 Dir(s)  24,097,927,168 bytes free\n"
     ]
    }
   ],
   "source": [
    "%ls\n"
   ]
  },
  {
   "cell_type": "code",
   "execution_count": 19,
   "metadata": {},
   "outputs": [],
   "source": [
    "data = pd.read_csv(\"Freedom_organizations_Data.csv\")"
   ]
  },
  {
   "cell_type": "code",
   "execution_count": 24,
   "metadata": {},
   "outputs": [
    {
     "name": "stdout",
     "output_type": "stream",
     "text": [
      "    Country         Response   Round 4   Unnamed: 3  Unnamed: 4\n",
      "0      Ghana  Not at all free     0.016         NaN         NaN\n",
      "1      Ghana    Not very free     0.017         NaN         NaN\n",
      "2      Ghana    Somewhat free     0.072         NaN         NaN\n",
      "3      Ghana  Completely free     0.874         NaN         NaN\n",
      "4      Ghana       Don't know     0.021         NaN         NaN\n",
      "5   Nigeria   Not at all free     0.101         NaN         NaN\n",
      "6   Nigeria     Not very free     0.187         NaN         NaN\n",
      "7   Nigeria     Somewhat free     0.245         NaN         NaN\n",
      "8   Nigeria   Completely free     0.417         NaN         NaN\n",
      "9   Nigeria        Don't know     0.050         NaN         NaN\n",
      "10    Uganda  Not at all free     0.026         NaN         NaN\n",
      "11    Uganda    Not very free     0.097         NaN         NaN\n",
      "12    Uganda    Somewhat free     0.279         NaN         NaN\n",
      "13    Uganda  Completely free     0.579         NaN         NaN\n",
      "14    Uganda       Don't know     0.020         NaN         NaN\n"
     ]
    }
   ],
   "source": [
    "print(data)"
   ]
  },
  {
   "cell_type": "code",
   "execution_count": 25,
   "metadata": {},
   "outputs": [
    {
     "data": {
      "text/plain": [
       "Index(['Country ', 'Response ', 'Round 4 ', 'Unnamed: 3', 'Unnamed: 4'], dtype='object')"
      ]
     },
     "execution_count": 25,
     "metadata": {},
     "output_type": "execute_result"
    }
   ],
   "source": [
    "data.keys()"
   ]
  },
  {
   "cell_type": "code",
   "execution_count": 32,
   "metadata": {},
   "outputs": [
    {
     "data": {
      "text/plain": [
       "<bound method NDFrame.head of     Country         Response   Round 4 \n",
       "0      Ghana  Not at all free     0.016\n",
       "1      Ghana    Not very free     0.017\n",
       "2      Ghana    Somewhat free     0.072\n",
       "3      Ghana  Completely free     0.874\n",
       "4      Ghana       Don't know     0.021\n",
       "5   Nigeria   Not at all free     0.101\n",
       "6   Nigeria     Not very free     0.187\n",
       "7   Nigeria     Somewhat free     0.245\n",
       "8   Nigeria   Completely free     0.417\n",
       "9   Nigeria        Don't know     0.050\n",
       "10    Uganda  Not at all free     0.026\n",
       "11    Uganda    Not very free     0.097\n",
       "12    Uganda    Somewhat free     0.279\n",
       "13    Uganda  Completely free     0.579\n",
       "14    Uganda       Don't know     0.020>"
      ]
     },
     "execution_count": 32,
     "metadata": {},
     "output_type": "execute_result"
    }
   ],
   "source": [
    "# del data['Unnamed: 3']\n",
    "del data['Unnamed: 4']\n",
    "data.head"
   ]
  },
  {
   "cell_type": "code",
   "execution_count": 36,
   "metadata": {},
   "outputs": [
    {
     "name": "stdout",
     "output_type": "stream",
     "text": [
      "    Country         Response   Round 4 \n",
      "0      Ghana  Not at all free     0.016\n",
      "1      Ghana    Not very free     0.017\n",
      "2      Ghana    Somewhat free     0.072\n",
      "3      Ghana  Completely free     0.874\n",
      "4      Ghana       Don't know     0.021\n",
      "5   Nigeria   Not at all free     0.101\n",
      "6   Nigeria     Not very free     0.187\n",
      "7   Nigeria     Somewhat free     0.245\n",
      "8   Nigeria   Completely free     0.417\n",
      "9   Nigeria        Don't know     0.050\n",
      "10    Uganda  Not at all free     0.026\n",
      "11    Uganda    Not very free     0.097\n",
      "12    Uganda    Somewhat free     0.279\n",
      "13    Uganda  Completely free     0.579\n",
      "14    Uganda       Don't know     0.020\n"
     ]
    }
   ],
   "source": [
    "print(data)"
   ]
  },
  {
   "cell_type": "code",
   "execution_count": 38,
   "metadata": {},
   "outputs": [
    {
     "data": {
      "text/plain": [
       "[('Country ',\n",
       "  0        Ghana\n",
       "  1        Ghana\n",
       "  2        Ghana\n",
       "  3        Ghana\n",
       "  4        Ghana\n",
       "  5     Nigeria \n",
       "  6     Nigeria \n",
       "  7     Nigeria \n",
       "  8     Nigeria \n",
       "  9     Nigeria \n",
       "  10      Uganda\n",
       "  11      Uganda\n",
       "  12      Uganda\n",
       "  13      Uganda\n",
       "  14      Uganda\n",
       "  Name: Country , dtype: object),\n",
       " ('Response ',\n",
       "  0     Not at all free\n",
       "  1       Not very free\n",
       "  2       Somewhat free\n",
       "  3     Completely free\n",
       "  4          Don't know\n",
       "  5     Not at all free\n",
       "  6       Not very free\n",
       "  7       Somewhat free\n",
       "  8     Completely free\n",
       "  9          Don't know\n",
       "  10    Not at all free\n",
       "  11      Not very free\n",
       "  12      Somewhat free\n",
       "  13    Completely free\n",
       "  14         Don't know\n",
       "  Name: Response , dtype: object),\n",
       " ('Round 4 ',\n",
       "  0     0.016\n",
       "  1     0.017\n",
       "  2     0.072\n",
       "  3     0.874\n",
       "  4     0.021\n",
       "  5     0.101\n",
       "  6     0.187\n",
       "  7     0.245\n",
       "  8     0.417\n",
       "  9     0.050\n",
       "  10    0.026\n",
       "  11    0.097\n",
       "  12    0.279\n",
       "  13    0.579\n",
       "  14    0.020\n",
       "  Name: Round 4 , dtype: float64)]"
      ]
     },
     "execution_count": 38,
     "metadata": {},
     "output_type": "execute_result"
    }
   ],
   "source": [
    "list(data.items())"
   ]
  },
  {
   "cell_type": "code",
   "execution_count": 39,
   "metadata": {},
   "outputs": [
    {
     "data": {
      "text/plain": [
       "Country              Ghana\n",
       "Response     Not very free\n",
       "Round 4              0.017\n",
       "Name: 1, dtype: object"
      ]
     },
     "execution_count": 39,
     "metadata": {},
     "output_type": "execute_result"
    }
   ],
   "source": [
    "data.loc[1]"
   ]
  },
  {
   "cell_type": "code",
   "execution_count": 40,
   "metadata": {},
   "outputs": [
    {
     "data": {
      "text/plain": [
       "Country              Ghana\n",
       "Response     Somewhat free\n",
       "Round 4              0.072\n",
       "Name: 2, dtype: object"
      ]
     },
     "execution_count": 40,
     "metadata": {},
     "output_type": "execute_result"
    }
   ],
   "source": [
    "data.loc[2]"
   ]
  },
  {
   "cell_type": "code",
   "execution_count": 41,
   "metadata": {},
   "outputs": [
    {
     "data": {
      "text/html": [
       "<div>\n",
       "<style scoped>\n",
       "    .dataframe tbody tr th:only-of-type {\n",
       "        vertical-align: middle;\n",
       "    }\n",
       "\n",
       "    .dataframe tbody tr th {\n",
       "        vertical-align: top;\n",
       "    }\n",
       "\n",
       "    .dataframe thead th {\n",
       "        text-align: right;\n",
       "    }\n",
       "</style>\n",
       "<table border=\"1\" class=\"dataframe\">\n",
       "  <thead>\n",
       "    <tr style=\"text-align: right;\">\n",
       "      <th></th>\n",
       "      <th>Round 4</th>\n",
       "    </tr>\n",
       "  </thead>\n",
       "  <tbody>\n",
       "    <tr>\n",
       "      <th>count</th>\n",
       "      <td>15.000000</td>\n",
       "    </tr>\n",
       "    <tr>\n",
       "      <th>mean</th>\n",
       "      <td>0.200067</td>\n",
       "    </tr>\n",
       "    <tr>\n",
       "      <th>std</th>\n",
       "      <td>0.249971</td>\n",
       "    </tr>\n",
       "    <tr>\n",
       "      <th>min</th>\n",
       "      <td>0.016000</td>\n",
       "    </tr>\n",
       "    <tr>\n",
       "      <th>25%</th>\n",
       "      <td>0.023500</td>\n",
       "    </tr>\n",
       "    <tr>\n",
       "      <th>50%</th>\n",
       "      <td>0.097000</td>\n",
       "    </tr>\n",
       "    <tr>\n",
       "      <th>75%</th>\n",
       "      <td>0.262000</td>\n",
       "    </tr>\n",
       "    <tr>\n",
       "      <th>max</th>\n",
       "      <td>0.874000</td>\n",
       "    </tr>\n",
       "  </tbody>\n",
       "</table>\n",
       "</div>"
      ],
      "text/plain": [
       "        Round 4 \n",
       "count  15.000000\n",
       "mean    0.200067\n",
       "std     0.249971\n",
       "min     0.016000\n",
       "25%     0.023500\n",
       "50%     0.097000\n",
       "75%     0.262000\n",
       "max     0.874000"
      ]
     },
     "execution_count": 41,
     "metadata": {},
     "output_type": "execute_result"
    }
   ],
   "source": [
    "data.describe()"
   ]
  },
  {
   "cell_type": "code",
   "execution_count": 42,
   "metadata": {},
   "outputs": [
    {
     "data": {
      "text/html": [
       "<div>\n",
       "<style scoped>\n",
       "    .dataframe tbody tr th:only-of-type {\n",
       "        vertical-align: middle;\n",
       "    }\n",
       "\n",
       "    .dataframe tbody tr th {\n",
       "        vertical-align: top;\n",
       "    }\n",
       "\n",
       "    .dataframe thead th {\n",
       "        text-align: right;\n",
       "    }\n",
       "</style>\n",
       "<table border=\"1\" class=\"dataframe\">\n",
       "  <thead>\n",
       "    <tr style=\"text-align: right;\">\n",
       "      <th></th>\n",
       "      <th>Response</th>\n",
       "    </tr>\n",
       "  </thead>\n",
       "  <tbody>\n",
       "    <tr>\n",
       "      <th>0</th>\n",
       "      <td>Not at all free</td>\n",
       "    </tr>\n",
       "    <tr>\n",
       "      <th>1</th>\n",
       "      <td>Not very free</td>\n",
       "    </tr>\n",
       "    <tr>\n",
       "      <th>2</th>\n",
       "      <td>Somewhat free</td>\n",
       "    </tr>\n",
       "    <tr>\n",
       "      <th>3</th>\n",
       "      <td>Completely free</td>\n",
       "    </tr>\n",
       "    <tr>\n",
       "      <th>4</th>\n",
       "      <td>Don't know</td>\n",
       "    </tr>\n",
       "    <tr>\n",
       "      <th>5</th>\n",
       "      <td>Not at all free</td>\n",
       "    </tr>\n",
       "    <tr>\n",
       "      <th>6</th>\n",
       "      <td>Not very free</td>\n",
       "    </tr>\n",
       "    <tr>\n",
       "      <th>7</th>\n",
       "      <td>Somewhat free</td>\n",
       "    </tr>\n",
       "    <tr>\n",
       "      <th>8</th>\n",
       "      <td>Completely free</td>\n",
       "    </tr>\n",
       "    <tr>\n",
       "      <th>9</th>\n",
       "      <td>Don't know</td>\n",
       "    </tr>\n",
       "    <tr>\n",
       "      <th>10</th>\n",
       "      <td>Not at all free</td>\n",
       "    </tr>\n",
       "    <tr>\n",
       "      <th>11</th>\n",
       "      <td>Not very free</td>\n",
       "    </tr>\n",
       "    <tr>\n",
       "      <th>12</th>\n",
       "      <td>Somewhat free</td>\n",
       "    </tr>\n",
       "    <tr>\n",
       "      <th>13</th>\n",
       "      <td>Completely free</td>\n",
       "    </tr>\n",
       "    <tr>\n",
       "      <th>14</th>\n",
       "      <td>Don't know</td>\n",
       "    </tr>\n",
       "  </tbody>\n",
       "</table>\n",
       "</div>"
      ],
      "text/plain": [
       "          Response \n",
       "0   Not at all free\n",
       "1     Not very free\n",
       "2     Somewhat free\n",
       "3   Completely free\n",
       "4        Don't know\n",
       "5   Not at all free\n",
       "6     Not very free\n",
       "7     Somewhat free\n",
       "8   Completely free\n",
       "9        Don't know\n",
       "10  Not at all free\n",
       "11    Not very free\n",
       "12    Somewhat free\n",
       "13  Completely free\n",
       "14       Don't know"
      ]
     },
     "execution_count": 42,
     "metadata": {},
     "output_type": "execute_result"
    }
   ],
   "source": [
    "data[['Response ']]"
   ]
  },
  {
   "cell_type": "code",
   "execution_count": 45,
   "metadata": {},
   "outputs": [
    {
     "data": {
      "text/html": [
       "<div>\n",
       "<style scoped>\n",
       "    .dataframe tbody tr th:only-of-type {\n",
       "        vertical-align: middle;\n",
       "    }\n",
       "\n",
       "    .dataframe tbody tr th {\n",
       "        vertical-align: top;\n",
       "    }\n",
       "\n",
       "    .dataframe thead th {\n",
       "        text-align: right;\n",
       "    }\n",
       "</style>\n",
       "<table border=\"1\" class=\"dataframe\">\n",
       "  <thead>\n",
       "    <tr style=\"text-align: right;\">\n",
       "      <th></th>\n",
       "      <th>Country</th>\n",
       "      <th>Response</th>\n",
       "      <th>Round 4</th>\n",
       "    </tr>\n",
       "  </thead>\n",
       "  <tbody>\n",
       "    <tr>\n",
       "      <th>0</th>\n",
       "      <td>Ghana</td>\n",
       "      <td>Not at all free</td>\n",
       "      <td>0.016</td>\n",
       "    </tr>\n",
       "    <tr>\n",
       "      <th>5</th>\n",
       "      <td>Nigeria</td>\n",
       "      <td>Not at all free</td>\n",
       "      <td>0.101</td>\n",
       "    </tr>\n",
       "    <tr>\n",
       "      <th>10</th>\n",
       "      <td>Uganda</td>\n",
       "      <td>Not at all free</td>\n",
       "      <td>0.026</td>\n",
       "    </tr>\n",
       "  </tbody>\n",
       "</table>\n",
       "</div>"
      ],
      "text/plain": [
       "    Country         Response   Round 4 \n",
       "0      Ghana  Not at all free     0.016\n",
       "5   Nigeria   Not at all free     0.101\n",
       "10    Uganda  Not at all free     0.026"
      ]
     },
     "execution_count": 45,
     "metadata": {},
     "output_type": "execute_result"
    }
   ],
   "source": [
    "#data for \"not free response\"\n",
    "data.iloc[[0, 5, 10]]"
   ]
  },
  {
   "cell_type": "code",
   "execution_count": 46,
   "metadata": {},
   "outputs": [
    {
     "data": {
      "text/plain": [
       "<matplotlib.axes._subplots.AxesSubplot at 0x173ef91b948>"
      ]
     },
     "execution_count": 46,
     "metadata": {},
     "output_type": "execute_result"
    },
    {
     "data": {
      "image/png": "[encoded data removed]",
      "text/plain": [
       "<Figure size 432x288 with 1 Axes>"
      ]
     },
     "metadata": {
      "needs_background": "light"
     },
     "output_type": "display_data"
    }
   ],
   "source": [
    "data.boxplot(column=['Round 4 '], by ='Response ')"
   ]
  },
  {
   "cell_type": "code",
   "execution_count": 34,
   "metadata": {},
   "outputs": [
    {
     "data": {
      "text/plain": [
       "<matplotlib.axes._subplots.AxesSubplot at 0x11b332d5ac8>"
      ]
     },
     "execution_count": 34,
     "metadata": {},
     "output_type": "execute_result"
    },
    {
     "data": {
      "image/png": "[encoded data removed]",
      "text/plain": [
       "<Figure size 432x288 with 1 Axes>"
      ]
     },
     "metadata": {
      "needs_background": "light"
     },
     "output_type": "display_data"
    }
   ],
   "source": [
    "data.plot.scatter(x = \"Response \",\n",
    "                 y = \"Round 4 \")"
   ]
  },
  {
   "cell_type": "code",
   "execution_count": null,
   "metadata": {},
   "outputs": [],
   "source": []
  }
 ],
 "metadata": {
  "kernelspec": {
   "display_name": "Python 3",
   "language": "python",
   "name": "python3"
  },
  "language_info": {
   "codemirror_mode": {
    "name": "ipython",
    "version": 3
   },
   "file_extension": ".py",
   "mimetype": "text/x-python",
   "name": "python",
   "nbconvert_exporter": "python",
   "pygments_lexer": "ipython3",
   "version": "3.7.6"
  }
 },
 "nbformat": 4,
 "nbformat_minor": 4
}
