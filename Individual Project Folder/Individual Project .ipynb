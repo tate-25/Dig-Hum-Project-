{
 "cells": [
  {
   "cell_type": "markdown",
   "metadata": {},
   "source": [
    "# African Understanding of Freedom \n",
    "\n",
    "## Why Africa? \n",
    "\n",
    "I've been interested in Africa for a while as a coneints of increbily divereise culutre, the beginig of human history and beaftuil natural respocures. That have been pludenered by outsiders. It wasnt until post World War Two, that the chains of coliism were taken off. Alowing for the coiniet to try to set its own path. However that is a nivie telling, becuase internaional XX have used Africa to fight prioxy wars, steal diamonds and gold, trade land for debt and so on. Africa hasnt been given a far shot, yet the people are still virbent and trying to create there own place. This is what my project is interest in is try to understand the local percetion on their goverment. After studying in China, I am devoted to trying to understand and make democratic instuitons more inclusive, repersative and XXX. \n",
    "\n",
    "The research question: \n",
    " \"\"\n",
    " \n",
    "#### Contries  \n",
    "\n",
    "__Ghana__: Is the headquarters of __Afrobarometer__ and argubly the freest and most democratic country in Africa.\n",
    "Africa layout.png\n",
    "\n",
    "__Nigirea__: Is the largest country on the coneint, oil rich, give and flow on freedom. Just eleted the last Miltary Dicatior as presdeint, maybe he has changed?????\n",
    "\n",
    "__Uganda__: Is the least free country that __Afrobarometer__ has consintent data on.\n",
    "\n",
    "<img src=\"files/Africa layout.png\" alt=\"Image\" height=\"450\" width=\"500\" />\n",
    "\n",
    "## Data Scources  \n",
    "- __Afrobarometer__ was founded in 1999 as a locally driven, nonpartisan NGO that seeks to gather data on African’s public attitude surveys on “democracy, governance, the economy, and society\". \n",
    "- International reconized for being one of the most consitance and accuretite for polling in Africa \n",
    "    \n",
    "- __The Freedom House__ was established in 1941 to champion the advancement of freedom globally, and since 1972 the institutes have released the  “Freedom in the World [...] annual report, assessing the condition of political rights and civil liberties around the world.” The most cited index on Democarcy in the Free world. \n",
    "- The report is created by a team of in-house and external analysts and expert advisers from the academic, think tank, and human rights communities. The current 2020 edition used  125 analysts, and 40 advisers.\n",
    "\n",
    "#### Freedom in Africa, 2015\n",
    "We can see that Freedom Clusters. \n",
    "<img src=\"files/freedom-africa-2015.png\" alt=\"Image\" height= \"300\" width= \"450\" />\n",
    "\n",
    "## Methodology \n",
    "\n",
    "We will look at the local polling data and use the _Freedom in the world_ index.\n",
    "\n",
    "#### Local \n",
    " I will use three rounds of polling, the years: ‘2008-2009’, ‘2011 - 2013’, and ‘2014-2015’.  While focusing on the question _“In this country, how free are you: To choose who to vote for without feeling pressured?”_ interviewees are give five response catorgies:\n",
    "    1. Not at all free\n",
    "    2. Not very free\n",
    "    3. Somewhat free\n",
    "    4. Completely free\n",
    "    5. Don't know\n",
    "    \n",
    "#### International \n",
    "\n",
    "Freedom House has three catorgories of Freedom:\n",
    "    1. Free \n",
    "    2. Partly Free \n",
    "    3. Not Free\n",
    "These are scored from a 0 to 100 scale, this image shows the XXX: \n",
    "Image \n",
    "\n",
    "\n",
    "\n",
    "\n",
    "\n",
    "\n"
   ]
  },
  {
   "cell_type": "code",
   "execution_count": 13,
   "metadata": {},
   "outputs": [],
   "source": [
    "from IPython.display import Image\n",
    "from IPython.core.display import HTML \n",
    "#Image(url= \"https://ichef.bbci.co.uk/news/624/cpsprodpb/C846/production/_105707215_democracy.png\")"
   ]
  },
  {
   "cell_type": "code",
   "execution_count": 62,
   "metadata": {},
   "outputs": [],
   "source": [
    "import math\n",
    "import os\n",
    "from datetime import datetime\n",
    "import matplotlib.pyplot as plt\n",
    "import numpy as np\n",
    "import pandas as pd\n",
    "import seaborn as sns\n",
    "import scipy\n",
    "from scipy import stats\n",
    "import sklearn\n",
    "from sklearn.feature_extraction.text import CountVectorizer\n",
    "from sklearn.linear_model import LogisticRegression\n",
    "from sklearn import metrics\n",
    "from sklearn.model_selection import train_test_split\n",
    "from sklearn.datasets import load_iris\n",
    "%matplotlib inline\n"
   ]
  },
  {
   "cell_type": "code",
   "execution_count": 123,
   "metadata": {},
   "outputs": [
    {
     "data": {
      "text/plain": [
       "'C:\\\\Users\\\\taten\\\\Desktop\\\\Digtal Hum\\\\Dig-Hum-Project-\\\\Individual Project Folder'"
      ]
     },
     "execution_count": 123,
     "metadata": {},
     "output_type": "execute_result"
    }
   ],
   "source": [
    "%pwd\n"
   ]
  },
  {
   "cell_type": "code",
   "execution_count": 149,
   "metadata": {},
   "outputs": [
    {
     "name": "stdout",
     "output_type": "stream",
     "text": [
      " Volume in drive C has no label.\n",
      " Volume Serial Number is 9022-D8D4\n",
      "\n",
      " Directory of C:\\Users\\taten\\Desktop\\Digtal Hum\\Dig-Hum-Project-\\Individual Project Folder\n",
      "\n",
      "06/30/2020  11:04 PM    <DIR>          .\n",
      "06/30/2020  11:04 PM    <DIR>          ..\n",
      "06/25/2020  12:40 PM    <DIR>          .ipynb_checkpoints\n",
      "06/29/2020  09:44 PM         1,588,352 Africa layout.png\n",
      "06/24/2020  08:50 PM           134,086 Afrobarometer_ data_Freedom_to_choose_who_to_vote_for.xlsx\n",
      "06/24/2020  08:51 PM           134,082 Afrobarometer_data_Freedom_to_join_any_political_organizations.xlsx\n",
      "06/24/2020  08:50 PM           134,285 Afrobarometer_data_Freedom_to_say_what_you_think.xlsx\n",
      "06/25/2020  12:39 PM               849 Freedom to join any political organizations_Data.csv\n",
      "06/24/2020  08:49 PM           290,920 Freedom_House_data_2020_Aggregate_Category_and_Subcategory_Scores_FIW_2003-2020.xlsx\n",
      "06/30/2020  10:51 PM               232 Freedom_organizations_Data.csv\n",
      "06/30/2020  08:54 PM             8,957 Freedom_organizations_Data.xlsx\n",
      "06/30/2020  10:06 PM               702 Freedom_vote_all­­.csv\n",
      "06/30/2020  09:58 PM               702 Freedom_vote_all­­_rounds.csv\n",
      "06/30/2020  11:04 PM               223 Freedom_vote_round_4 .csv\n",
      "06/30/2020  08:36 PM             9,119 Freedom_vote_round_4 .xlsx\n",
      "06/29/2020  10:07 PM           455,064 freedom-africa-2015.png\n",
      "06/30/2020  11:04 PM            51,629 Individual Project .ipynb\n",
      "06/25/2020  09:31 PM             3,130 Main Individual Data.csv\n",
      "06/24/2020  07:55 PM            12,236 Main Individual Data.xlsx\n",
      "              16 File(s)      2,824,568 bytes\n",
      "               3 Dir(s)  22,411,931,648 bytes free\n"
     ]
    }
   ],
   "source": [
    "%ls\n"
   ]
  },
  {
   "cell_type": "code",
   "execution_count": 150,
   "metadata": {},
   "outputs": [
    {
     "name": "stdout",
     "output_type": "stream",
     "text": [
      "   Country   Not at all free  Not very free  Somewhat free  Completely free  \\\n",
      "0     Ghana            0.016          0.017          0.072            0.874   \n",
      "1  Nigeria             0.101          0.187          0.245            0.417   \n",
      "2    Uganda            0.026          0.097          0.279            0.579   \n",
      "\n",
      "   Don't know  Freedom in the world   \n",
      "0       0.021                      1  \n",
      "1       0.050                      0  \n",
      "2       0.020                      0  \n"
     ]
    }
   ],
   "source": [
    "free_vote = pd.read_csv(\"Freedom_vote_round_4 .csv\")\n",
    "\n",
    "#free_vote.rename(columns = {'Round 6 \\n':'Round 6'}, inplace = True)\n",
    "\n",
    "print(free_vote)"
   ]
  },
  {
   "cell_type": "code",
   "execution_count": 152,
   "metadata": {},
   "outputs": [
    {
     "data": {
      "text/html": [
       "<div>\n",
       "<style scoped>\n",
       "    .dataframe tbody tr th:only-of-type {\n",
       "        vertical-align: middle;\n",
       "    }\n",
       "\n",
       "    .dataframe tbody tr th {\n",
       "        vertical-align: top;\n",
       "    }\n",
       "\n",
       "    .dataframe thead th {\n",
       "        text-align: right;\n",
       "    }\n",
       "</style>\n",
       "<table border=\"1\" class=\"dataframe\">\n",
       "  <thead>\n",
       "    <tr style=\"text-align: right;\">\n",
       "      <th></th>\n",
       "      <th>Country</th>\n",
       "      <th>Not at all free</th>\n",
       "      <th>Not very free</th>\n",
       "      <th>Somewhat free</th>\n",
       "      <th>Completely free</th>\n",
       "      <th>Don't know</th>\n",
       "      <th>Freedom in the world</th>\n",
       "    </tr>\n",
       "  </thead>\n",
       "  <tbody>\n",
       "    <tr>\n",
       "      <th>0</th>\n",
       "      <td>Ghana</td>\n",
       "      <td>0.016</td>\n",
       "      <td>0.017</td>\n",
       "      <td>0.072</td>\n",
       "      <td>0.874</td>\n",
       "      <td>0.021</td>\n",
       "      <td>1</td>\n",
       "    </tr>\n",
       "    <tr>\n",
       "      <th>1</th>\n",
       "      <td>Nigeria</td>\n",
       "      <td>0.101</td>\n",
       "      <td>0.187</td>\n",
       "      <td>0.245</td>\n",
       "      <td>0.417</td>\n",
       "      <td>0.050</td>\n",
       "      <td>0</td>\n",
       "    </tr>\n",
       "    <tr>\n",
       "      <th>2</th>\n",
       "      <td>Uganda</td>\n",
       "      <td>0.026</td>\n",
       "      <td>0.097</td>\n",
       "      <td>0.279</td>\n",
       "      <td>0.579</td>\n",
       "      <td>0.020</td>\n",
       "      <td>0</td>\n",
       "    </tr>\n",
       "  </tbody>\n",
       "</table>\n",
       "</div>"
      ],
      "text/plain": [
       "   Country   Not at all free  Not very free  Somewhat free  Completely free  \\\n",
       "0     Ghana            0.016          0.017          0.072            0.874   \n",
       "1  Nigeria             0.101          0.187          0.245            0.417   \n",
       "2    Uganda            0.026          0.097          0.279            0.579   \n",
       "\n",
       "   Don't know  Freedom in the world   \n",
       "0       0.021                      1  \n",
       "1       0.050                      0  \n",
       "2       0.020                      0  "
      ]
     },
     "execution_count": 152,
     "metadata": {},
     "output_type": "execute_result"
    }
   ],
   "source": [
    "free_vote.head()"
   ]
  },
  {
   "cell_type": "code",
   "execution_count": 201,
   "metadata": {},
   "outputs": [],
   "source": [
    "response = [\"Not at all free\",\"Not very free\",\"Somewhat free\",\"Completely free\",\"Don't know\"]\n",
    "X = free_vote[response]\n",
    "y = free_vote['Freedom in the world ']\n",
    "#x = np.array(free_vote[response]).reshape(-1,1)\n",
    "#y = np.array(free_vote['Freedom in the world ']).reshape(len(free_vote['Freedom in the world ']),)\n",
    "#x, y"
   ]
  },
  {
   "cell_type": "code",
   "execution_count": 202,
   "metadata": {},
   "outputs": [],
   "source": [
    "lr = LogisticRegression(solver = \"liblinear\")\n"
   ]
  },
  {
   "cell_type": "code",
   "execution_count": 203,
   "metadata": {},
   "outputs": [
    {
     "ename": "IndentationError",
     "evalue": "unexpected indent (<ipython-input-203-a08dc605049d>, line 2)",
     "output_type": "error",
     "traceback": [
      "\u001b[1;36m  File \u001b[1;32m\"<ipython-input-203-a08dc605049d>\"\u001b[1;36m, line \u001b[1;32m2\u001b[0m\n\u001b[1;33m    logistic = True,\u001b[0m\n\u001b[1;37m    ^\u001b[0m\n\u001b[1;31mIndentationError\u001b[0m\u001b[1;31m:\u001b[0m unexpected indent\n"
     ]
    }
   ],
   "source": [
    "#sns.regplot(x = free_vote[response], y = free_vote['Freedom in the world '], \n",
    "            logistic = True, \n",
    "            color = \"k\",\n",
    "            line_kws={'color':'red'});"
   ]
  },
  {
   "cell_type": "code",
   "execution_count": 196,
   "metadata": {},
   "outputs": [],
   "source": [
    "X_train,X_test,y_train,y_test=train_test_split(X,y,test_size=0.3)"
   ]
  },
  {
   "cell_type": "code",
   "execution_count": 197,
   "metadata": {},
   "outputs": [],
   "source": [
    "# instantiate the model (using the default parameters)\n",
    "logreg = LogisticRegression()\n",
    "\n",
    "# fit the model with data\n",
    "logreg.fit(X_train,y_train)\n",
    "\n",
    "#\n",
    "y_pred=logreg.predict(X_test)"
   ]
  },
  {
   "cell_type": "code",
   "execution_count": 198,
   "metadata": {},
   "outputs": [
    {
     "data": {
      "text/plain": [
       "array([[1]], dtype=int64)"
      ]
     },
     "execution_count": 198,
     "metadata": {},
     "output_type": "execute_result"
    }
   ],
   "source": [
    "cnf_matrix = metrics.confusion_matrix(y_test, y_pred)\n",
    "cnf_matrix"
   ]
  },
  {
   "cell_type": "code",
   "execution_count": 199,
   "metadata": {},
   "outputs": [
    {
     "data": {
      "text/plain": [
       "Text(0.5, 257.44, 'Predicted label')"
      ]
     },
     "execution_count": 199,
     "metadata": {},
     "output_type": "execute_result"
    },
    {
     "data": {
      "image/png": "[encoded data removed]",
      "text/plain": [
       "<Figure size 432x288 with 2 Axes>"
      ]
     },
     "metadata": {
      "needs_background": "light"
     },
     "output_type": "display_data"
    }
   ],
   "source": [
    "class_names=[0,1] # name  of classes\n",
    "fig, ax = plt.subplots()\n",
    "tick_marks = np.arange(len(class_names))\n",
    "plt.xticks(tick_marks, class_names)\n",
    "plt.yticks(tick_marks, class_names)\n",
    "# create heatmap\n",
    "sns.heatmap(pd.DataFrame(cnf_matrix), annot=True, cmap=\"YlGnBu\" ,fmt='g')\n",
    "ax.xaxis.set_label_position(\"top\")\n",
    "plt.tight_layout()\n",
    "plt.title('Confusion matrix', y=1.1)\n",
    "plt.ylabel('Actual label')\n",
    "plt.xlabel('Predicted label')"
   ]
  },
  {
   "cell_type": "code",
   "execution_count": null,
   "metadata": {},
   "outputs": [],
   "source": []
  },
  {
   "cell_type": "code",
   "execution_count": 71,
   "metadata": {},
   "outputs": [],
   "source": []
  },
  {
   "cell_type": "code",
   "execution_count": null,
   "metadata": {},
   "outputs": [],
   "source": []
  }
 ],
 "metadata": {
  "kernelspec": {
   "display_name": "Python 3",
   "language": "python",
   "name": "python3"
  },
  "language_info": {
   "codemirror_mode": {
    "name": "ipython",
    "version": 3
   },
   "file_extension": ".py",
   "mimetype": "text/x-python",
   "name": "python",
   "nbconvert_exporter": "python",
   "pygments_lexer": "ipython3",
   "version": "3.7.6"
  }
 },
 "nbformat": 4,
 "nbformat_minor": 4
}
